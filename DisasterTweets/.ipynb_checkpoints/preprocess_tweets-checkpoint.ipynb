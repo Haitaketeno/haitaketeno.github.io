{
 "cells": [
  {
   "cell_type": "markdown",
   "metadata": {},
   "source": [
    "Cleaning twitter data for Kaggle competiton"
   ]
  },
  {
   "cell_type": "code",
   "execution_count": 17,
   "metadata": {},
   "outputs": [],
   "source": [
    "from preprocessor.api import clean, tokenize, parse\n",
    "import pandas as pd"
   ]
  },
  {
   "cell_type": "code",
   "execution_count": 18,
   "metadata": {},
   "outputs": [
    {
     "data": {
      "text/plain": [
       "'!\"#$%&\\'()*+,-./:;<=>?@[\\\\]^_`{|}~'"
      ]
     },
     "execution_count": 18,
     "metadata": {},
     "output_type": "execute_result"
    }
   ],
   "source": [
    "import string\n",
    "\n",
    "def remove_punctuation(value):\n",
    "    result = \"\"\n",
    "    for c in value:\n",
    "        # If char is not punctuation, add it to the result.\n",
    "        if c not in string.punctuation:\n",
    "            result += c\n",
    "    return result\n",
    "\n",
    "string.punctuation"
   ]
  },
  {
   "cell_type": "code",
   "execution_count": 19,
   "metadata": {},
   "outputs": [],
   "source": [
    "tweets = pd.read_csv(r'nlp-getting-started\\train.csv')\n",
    "clean_text = tweets.text.apply(clean)\n",
    "clean_text = clean_text.apply(remove_punctuation).str.strip()"
   ]
  },
  {
   "cell_type": "code",
   "execution_count": 20,
   "metadata": {},
   "outputs": [
    {
     "name": "stdout",
     "output_type": "stream",
     "text": [
      "0     Our Deeds are the Reason of this #earthquake May ALLAH Forgive us all                                                                \n",
      "1     Forest fire near La Ronge Sask. Canada                                                                                               \n",
      "2     All residents asked to 'shelter in place' are being notified by officers. No other evacuation or shelter in place orders are expected\n",
      "3     13,000 people receive #wildfires evacuation orders in California                                                                     \n",
      "4     Just got sent this photo from Ruby #Alaska as smoke from #wildfires pours into a school                                              \n",
      "5     #RockyFire Update => California Hwy. 20 closed in both directions due to Lake County fire - #CAfire #wildfires                       \n",
      "6     #flood #disaster Heavy rain causes flash flooding of streets in Manitou, Colorado Springs areas                                      \n",
      "7     I'm on top of the hill and I can see a fire in the woods...                                                                          \n",
      "8     There's an emergency evacuation happening now in the building across the street                                                      \n",
      "9     I'm afraid that the tornado is coming to our area...                                                                                 \n",
      "10    Three people died from the heat wave so far                                                                                          \n",
      "11    Haha South Tampa is getting flooded hah- WAIT A SECOND I LIVE IN SOUTH TAMPA WHAT AM I GONNA DO WHAT AM I GONNA DO FVCK #flooding    \n",
      "12    #raining #flooding #Florida #TampaBay #Tampa 18 or 19 days. I've lost count                                                          \n",
      "13    #Flood in Bago Myanmar #We arrived Bago                                                                                              \n",
      "14    Damage to school bus on 80 in multi car crash #BREAKING                                                                              \n",
      "15    What's up man?                                                                                                                       \n",
      "16    I love fruits                                                                                                                        \n",
      "17    Summer is lovely                                                                                                                     \n",
      "18    My car is so fast                                                                                                                    \n",
      "19    What a goooooooaaaaaal!!!!!!                                                                                                         \n",
      "Name: text, dtype: object\n",
      "0     Our Deeds are the Reason of this May ALLAH Forgive us all                                                                         \n",
      "1     Forest fire near La Ronge Sask Canada                                                                                             \n",
      "2     All residents asked to shelter in place are being notified by officers No other evacuation or shelter in place orders are expected\n",
      "3     13000 people receive evacuation orders in California                                                                              \n",
      "4     Just got sent this photo from Ruby as smoke from pours into a school                                                              \n",
      "5     Update  California Hwy 20 closed in both directions due to Lake County fire                                                       \n",
      "6     Heavy rain causes flash flooding of streets in Manitou Colorado Springs areas                                                     \n",
      "7     Im on top of the hill and I can see a fire in the woods                                                                           \n",
      "8     Theres an emergency evacuation happening now in the building across the street                                                    \n",
      "9     Im afraid that the tornado is coming to our area                                                                                  \n",
      "10    Three people died from the heat wave so far                                                                                       \n",
      "11    Haha South Tampa is getting flooded hah WAIT A SECOND I LIVE IN SOUTH TAMPA WHAT AM I GONNA DO WHAT AM I GONNA DO FVCK            \n",
      "12    18 or 19 days Ive lost count                                                                                                      \n",
      "13    in Bago Myanmar arrived Bago                                                                                                      \n",
      "14    Damage to school bus on 80 in multi car crash                                                                                     \n",
      "15    Whats up man                                                                                                                      \n",
      "16    I love fruits                                                                                                                     \n",
      "17    Summer is lovely                                                                                                                  \n",
      "18    My car is so fast                                                                                                                 \n",
      "19    What a goooooooaaaaaal                                                                                                            \n",
      "Name: text, dtype: object\n"
     ]
    }
   ],
   "source": [
    "pd.set_option('display.max_colwidth', -1)\n",
    "print(tweets['text'].head(20))\n",
    "print(clean_text.head(20))"
   ]
  },
  {
   "cell_type": "code",
   "execution_count": 26,
   "metadata": {},
   "outputs": [],
   "source": [
    "tweets.loc[:,'text'] = clean_text\n",
    "tweets.to_csv('nlp-getting-started/test_clean.csv')"
   ]
  },
  {
   "cell_type": "code",
   "execution_count": null,
   "metadata": {},
   "outputs": [],
   "source": []
  }
 ],
 "metadata": {
  "kernelspec": {
   "display_name": "Python 3",
   "language": "python",
   "name": "python3"
  },
  "language_info": {
   "codemirror_mode": {
    "name": "ipython",
    "version": 3
   },
   "file_extension": ".py",
   "mimetype": "text/x-python",
   "name": "python",
   "nbconvert_exporter": "python",
   "pygments_lexer": "ipython3",
   "version": "3.7.4"
  }
 },
 "nbformat": 4,
 "nbformat_minor": 2
}
